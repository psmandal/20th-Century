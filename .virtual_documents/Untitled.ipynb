import pandas as pd
import numpy as np

# Generate random data
np.random.seed(0)
data = {
    'ID': np.arange(1, 11),  # Numeric column with IDs from 1 to 10
    'Name': [f'Name_{i}' for i in range(1, 11)],  # Text column with random names
    'Age': np.random.randint(20, 60, size=10),  # Numeric column with random ages between 20 and 60
    'Score': np.random.uniform(0, 100, size=10)  # Numeric column with random scores between 0 and 100
}

# Create DataFrame
random_df = pd.DataFrame(data)

# Display the DataFrame
random_df


# Create a new column 'Adjusted_Score' by multiplying 'Score' by 1.1 using a lambda function
random_df['Adjusted_Score'] = random_df['Score'].apply(lambda x: x * 1.1)

# Create a new column 'New_Age' by adding 'Age' by 100 using a lambda function
random_df['new_Age'] = random_df['Age'].apply(lambda x: x + 100)

random_df



