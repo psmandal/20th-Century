{
 "cells": [
  {
   "cell_type": "code",
   "execution_count": 29,
   "id": "913a9151-b147-45b9-9de8-a9d9494db817",
   "metadata": {},
   "outputs": [],
   "source": [
    "# Import libraries\n",
    "import pandas as pd\n",
    "import time\n",
    "import matplotlib.pyplot as plt \n",
    "import os\n",
    "import logging\n",
    "from bs4 import BeautifulSoup\n",
    "import requests\n",
    "\n",
    "# Removed selenium — not needed for static pages like Wikipedia."
   ]
  },
  {
   "cell_type": "code",
   "execution_count": 30,
   "id": "7a5c706a-e6b5-4944-bd1d-96f3aa14fe80",
   "metadata": {},
   "outputs": [],
   "source": [
    "# URL to scrape\n",
    "url = \"https://en.wikipedia.org/wiki/Key_events_of_the_20th_century\""
   ]
  },
  {
   "cell_type": "code",
   "execution_count": 31,
   "id": "6e9f651f-7339-4421-be2e-8d89755fd4d6",
   "metadata": {},
   "outputs": [],
   "source": [
    "# Send a GET request to the URL\n",
    "response = requests.get(url)"
   ]
  },
  {
   "cell_type": "code",
   "execution_count": 32,
   "id": "76405b99-ca33-4989-8180-2987a9d2b390",
   "metadata": {},
   "outputs": [
    {
     "name": "stdout",
     "output_type": "stream",
     "text": [
      "Page Title: Key events of the 20th century - Wikipedia\n"
     ]
    }
   ],
   "source": [
    "# Parse the HTML content with BeautifulSoup\n",
    "soup = BeautifulSoup(response.text, 'html.parser')\n",
    "\n",
    "print(\"Page Title:\", soup.title.string)"
   ]
  },
  {
   "cell_type": "code",
   "execution_count": 33,
   "id": "d3dd6ec6-6e78-4e8a-8531-313dc0b77e59",
   "metadata": {},
   "outputs": [],
   "source": [
    "# Extract main content only (to avoid sidebars/menus)\n",
    "content_div = soup.find('div', {'class': 'mw-parser-output'})\n",
    "\n",
    "# Used h2, h3, p, and li to capture headings, paragraphs, and bullet points.\n",
    "paragraphs = content_div.find_all(['p', 'h2', 'h3', 'li'])"
   ]
  },
  {
   "cell_type": "code",
   "execution_count": 34,
   "id": "ef38d87a-730b-4d62-abfc-bc4c01c12420",
   "metadata": {},
   "outputs": [],
   "source": [
    "# Combine all text\n",
    "content = \"\\n\\n\".join([para.get_text() for para in paragraphs])"
   ]
  },
  {
   "cell_type": "code",
   "execution_count": 35,
   "id": "4f09ad86-9d68-4a14-bb86-43b783098e19",
   "metadata": {},
   "outputs": [
    {
     "name": "stdout",
     "output_type": "stream",
     "text": [
      "Content saved to 'Key_events_20th_century.txt'\n"
     ]
    }
   ],
   "source": [
    "# Save to .txt file\n",
    "with open('Key_events_20th_century.txt', 'w', encoding='utf-8') as f:\n",
    "    f.write(content)\n",
    "    \n",
    "print(\"Content saved to 'Key_events_20th_century.txt'\")"
   ]
  },
  {
   "cell_type": "code",
   "execution_count": null,
   "id": "34d48f20-b590-4e8f-b999-6e91b144728f",
   "metadata": {},
   "outputs": [],
   "source": []
  }
 ],
 "metadata": {
  "kernelspec": {
   "display_name": "Python [conda env:20th_century] *",
   "language": "python",
   "name": "conda-env-20th_century-py"
  },
  "language_info": {
   "codemirror_mode": {
    "name": "ipython",
    "version": 3
   },
   "file_extension": ".py",
   "mimetype": "text/x-python",
   "name": "python",
   "nbconvert_exporter": "python",
   "pygments_lexer": "ipython3",
   "version": "3.13.2"
  }
 },
 "nbformat": 4,
 "nbformat_minor": 5
}
