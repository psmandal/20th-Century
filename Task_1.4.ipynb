{
 "cells": [
  {
   "cell_type": "code",
   "execution_count": 18,
   "id": "114e65eb-69b6-4254-ae38-621ae4f7db4a",
   "metadata": {},
   "outputs": [],
   "source": [
    "# Import libraries\n",
    "\n",
    "import pandas as pd\n",
    "import time\n",
    "import matplotlib.pyplot as plt \n",
    "import os\n",
    "import logging\n",
    "#from selenium.webdriver.common.by import By\n",
    "from bs4 import BeautifulSoup\n",
    "import requests"
   ]
  },
  {
   "cell_type": "code",
   "execution_count": 19,
   "id": "5228c754-4010-4083-b693-fcab4ac4db4f",
   "metadata": {},
   "outputs": [],
   "source": [
    "# SERVICE\n",
    "from selenium import webdriver\n",
    "from selenium.webdriver.chrome.service import Service\n",
    "from webdriver_manager.chrome import ChromeDriverManager\n",
    "\n",
    "# Automatically installs the right ChromeDriver and starts the browser\n",
    "service = Service(ChromeDriverManager().install())\n",
    "driver = webdriver.Chrome(service=service)\n",
    "\n",
    "# Example action\n",
    "#driver.get(\"https://www.google.com\")\n",
    "\n",
    "#print(driver.title)\n",
    "#driver.quit()"
   ]
  },
  {
   "cell_type": "markdown",
   "id": "53deeee9-77c7-4262-b66c-4810d1f5a4ee",
   "metadata": {},
   "source": [
    "Scraping \"Key_events_of_the_20th_century\" Wiki Page"
   ]
  },
  {
   "cell_type": "code",
   "execution_count": 20,
   "id": "3852d6b2-91ef-4b9d-874a-b5bfa35adc12",
   "metadata": {},
   "outputs": [],
   "source": [
    "# Get URL\n",
    "\n",
    "url = \"https://en.wikipedia.org/wiki/Key_events_of_the_20th_century\"\n",
    "response = requests.get(url)"
   ]
  },
  {
   "cell_type": "code",
   "execution_count": 21,
   "id": "8b2dd0ef-5458-4a87-9d38-c8fcf3e99868",
   "metadata": {},
   "outputs": [
    {
     "name": "stdout",
     "output_type": "stream",
     "text": [
      "<title>Key events of the 20th century - Wikipedia</title>\n"
     ]
    }
   ],
   "source": [
    "# Create soup and get title\n",
    "\n",
    "soup = BeautifulSoup(response.text, 'html.parser')\n",
    "print(soup.title) "
   ]
  },
  {
   "cell_type": "code",
   "execution_count": 22,
   "id": "d6c5db76-0e53-4057-91cd-47c4e27c38c0",
   "metadata": {},
   "outputs": [],
   "source": [
    "text = soup.get_text()\n",
    "\n",
    "text = text.encode ('utf-8')\n",
    "\n",
    "with open('Key_events_20th_century', 'wb') as f:\n",
    "       f.write(text)"
   ]
  },
  {
   "cell_type": "code",
   "execution_count": null,
   "id": "91e102cf-f012-4ab3-8b2a-5e1bd6de390b",
   "metadata": {},
   "outputs": [],
   "source": []
  }
 ],
 "metadata": {
  "kernelspec": {
   "display_name": "Python [conda env:20th_century] *",
   "language": "python",
   "name": "conda-env-20th_century-py"
  },
  "language_info": {
   "codemirror_mode": {
    "name": "ipython",
    "version": 3
   },
   "file_extension": ".py",
   "mimetype": "text/x-python",
   "name": "python",
   "nbconvert_exporter": "python",
   "pygments_lexer": "ipython3",
   "version": "3.13.2"
  }
 },
 "nbformat": 4,
 "nbformat_minor": 5
}
