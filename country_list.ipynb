{
 "cells": [
  {
   "cell_type": "code",
   "execution_count": 1,
   "id": "b8f39526-d472-40b7-bc69-b4eb4502c174",
   "metadata": {},
   "outputs": [
    {
     "name": "stdout",
     "output_type": "stream",
     "text": [
      "✅ Saved 0 countries to countries_list.txt\n"
     ]
    }
   ],
   "source": [
    "from selenium import webdriver\n",
    "from selenium.webdriver.chrome.service import Service\n",
    "from selenium.webdriver.chrome.options import Options\n",
    "from selenium.webdriver.common.by import By\n",
    "from webdriver_manager.chrome import ChromeDriverManager\n",
    "import time\n",
    "\n",
    "# Setup headless browser\n",
    "options = Options()\n",
    "options.add_argument(\"--headless\")\n",
    "driver = webdriver.Chrome(service=Service(ChromeDriverManager().install()), options=options)\n",
    "\n",
    "# Load Wikipedia mobile page\n",
    "url = \"https://simple.m.wikipedia.org/wiki/List_of_countries\"\n",
    "driver.get(url)\n",
    "time.sleep(3)  # wait for page to fully load\n",
    "\n",
    "# Find all links on the page\n",
    "link_elements = driver.find_elements(By.TAG_NAME, \"a\")\n",
    "\n",
    "# Extract potential country names from visible link text\n",
    "countries = []\n",
    "for link in link_elements:\n",
    "    text = link.text.strip()\n",
    "    href = link.get_attribute(\"href\")\n",
    "    # Simple filter to get only valid country names (non-empty, alphabetic, no policy or nav text)\n",
    "    if text and text[0].isalpha() and \"wiki\" in href and \":\" not in href and len(text.split()) < 5:\n",
    "        countries.append(text)\n",
    "\n",
    "# Filter and deduplicate\n",
    "blocklist = [\"Wikipedia\", \"Search\", \"Edit\", \"Main page\", \"Simple\", \"Help\", \"About\", \"Download\", \"Terms\", \"Privacy\", \"Policy\", \"Code\", \"Talk\"]\n",
    "filtered_countries = [c for c in set(countries) if all(b.lower() not in c.lower() for b in blocklist)]\n",
    "filtered_countries.sort()\n",
    "\n",
    "# Save to file\n",
    "with open(\"countries_list.txt\", \"w\", encoding=\"utf-8\") as f:\n",
    "    for country in filtered_countries:\n",
    "        f.write(country + \"\\n\")\n",
    "\n",
    "print(f\"✅ Saved {len(filtered_countries)} countries to countries_list.txt\")\n"
   ]
  },
  {
   "cell_type": "code",
   "execution_count": null,
   "id": "921633e9-9b0a-42f2-8de9-16138ad9fb5d",
   "metadata": {},
   "outputs": [],
   "source": []
  }
 ],
 "metadata": {
  "kernelspec": {
   "display_name": "Python [conda env:20th_century] *",
   "language": "python",
   "name": "conda-env-20th_century-py"
  },
  "language_info": {
   "codemirror_mode": {
    "name": "ipython",
    "version": 3
   },
   "file_extension": ".py",
   "mimetype": "text/x-python",
   "name": "python",
   "nbconvert_exporter": "python",
   "pygments_lexer": "ipython3",
   "version": "3.13.2"
  }
 },
 "nbformat": 4,
 "nbformat_minor": 5
}
