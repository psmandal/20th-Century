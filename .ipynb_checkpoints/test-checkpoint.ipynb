{
 "cells": [
  {
   "cell_type": "markdown",
   "id": "e546e3ee-e2df-44f5-a7d0-9debf951748c",
   "metadata": {},
   "source": [
    "\"20th Century Test\""
   ]
  },
  {
   "cell_type": "code",
   "execution_count": 4,
   "id": "ae235609-546a-4699-b66c-1d1360ab65ab",
   "metadata": {},
   "outputs": [
    {
     "name": "stdout",
     "output_type": "stream",
     "text": [
      "git is cool :)\n"
     ]
    }
   ],
   "source": [
    "print(\"git is cool :)\")"
   ]
  },
  {
   "cell_type": "code",
   "execution_count": null,
   "id": "940495fb-a3d2-45f9-b558-92f4f4f632ad",
   "metadata": {},
   "outputs": [],
   "source": []
  }
 ],
 "metadata": {
  "kernelspec": {
   "display_name": "Python [conda env:base] *",
   "language": "python",
   "name": "conda-base-py"
  },
  "language_info": {
   "codemirror_mode": {
    "name": "ipython",
    "version": 3
   },
   "file_extension": ".py",
   "mimetype": "text/x-python",
   "name": "python",
   "nbconvert_exporter": "python",
   "pygments_lexer": "ipython3",
   "version": "3.12.7"
  }
 },
 "nbformat": 4,
 "nbformat_minor": 5
}
